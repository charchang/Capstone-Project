{
    "cells": [
        {
            "cell_type": "markdown",
            "metadata": {},
            "source": "<h1><center>The Battle of the Nieghborhoods</center></h1>\n<h3><center>Applied Data Science Capstone by IBM/Coursera</center></h3>"
        },
        {
            "cell_type": "markdown",
            "metadata": {},
            "source": "## Table of contents\n* [1. Introduction: Business Problem](#introduction)\n* [2. Data: Data Sources](#data)"
        },
        {
            "cell_type": "markdown",
            "metadata": {},
            "source": "## 1. Introduction: Business Problem <a name=\"introduction\"></a>"
        },
        {
            "cell_type": "markdown",
            "metadata": {},
            "source": "1.1.\tBackground<br>\nLondon is one of the biggest cities in the world with a population of over 8 million people, as per a Census performed in 2011. Subsequently, the city has attracted individuals from all over the world. It has become one of the most ethnically diverse cities in the world. London is melting pot of various people, ethnicities, cultures and backgrounds. Asians are one of its largest minority ethnic group. As per the 2011 Census, Asians make up 18.4% of the total population in London. This includes many Chinese, both immigrants and those that were born and raised in the UK. As such, it is no surprise that Chinese cuisine has been increasing in popularity. London even has its very own Chinatown located in Westminster.\n\n1.2.\tBusiness Problem<br>\nOur business problem here is to capitalize on this increasing demand and interest in Chinese cuisine and open a Chinese restaurant. However, the first thing to think about when opening a new restaurant is location. The purpose of this project is to determine which neighborhood would be the most ideal to open a new Chinese restaurant. To do so, we will be analyzing the demographic data of boroughs in London and nearby venues as well as performing clustering on neighborhoods.\n\n1.3.\tWho would be interested?<br>\nAny person/company looking to open a new Chinese restaurant in London."
        },
        {
            "cell_type": "markdown",
            "metadata": {},
            "source": "## 2. Data: Data Sources <a name=\"data\"></a>"
        },
        {
            "cell_type": "markdown",
            "metadata": {},
            "source": "**Data Sources**<br>\nWe will be using 3 main data sources:\n* Firstly, we want to figure out which boroughs have the highest Chinese population since one of the assumptions we will be making in this project is that the demand for Chinese food is predominantly from the Chinese community. Thus, we need demographic data in London. We can obtain this information from the Wikipedia page \u2013 Ethnic Groups in London.\n* Next, we will be choosing the top five boroughs with the highest Chinese population and obtain a list of neighborhoods and respective postal codes for those boroughs. The postal codes will then be used to get the coordinates (latitude and longitude) of the neighborhood which we will need later on. We can obtain this information from the Wikipedia page \u2013 List of Areas of London.\n* Lastly, we need to use the FourSquare API to explore each neighborhood and analyze what venues are in each neighborhood, how many Chinese restaurants there are, and which venues are the most common in each neighborhood. This will guide our final recommendation on the neighborhood that is the most suitable to open a new Chinese restaurant. We can obtain this information from the Foursquare Developer API.\n\n**Data Cleaning**<br>\nWe start off by webscrapping the Wikipedia page, Ethnic Groups in London. We identify the table relevant to our project which is titled Asian Population of London. The html table is converted into a pandas dataframe. We only extract the two relevant columns, London Borough and Chinese Population. We then sort the dataframe in descending order by Chinese Population to get the top 5 boroughs with the highest Chinese population.\nNext, we need to get the neighborhoods and postal codes for the 5 boroughs. We webscrape the Wikipedia page, List of Areas of London. From the html table, we extract the relevant columns \u2013 Location, London borough, Post town, Postcode district \u2013 into a new pandas dataframe. We note that in some cases the neighbourhood is affixed to more than one postcode. Since we only need one postcode to extract the coordinates of the neighbourhood, we select the first postcode listed and drop the rest. After that, we filter the column post town for only values that contain \u2018LONDON\u2019. Then, we filter the resulting dataframe for the 5 London boroughs that we identified earlier.\n"
        },
        {
            "cell_type": "markdown",
            "metadata": {},
            "source": "<h3>2.1 Installing Required Libraries</h3>"
        },
        {
            "cell_type": "code",
            "execution_count": 1,
            "metadata": {},
            "outputs": [
                {
                    "name": "stdout",
                    "output_type": "stream",
                    "text": "Requirement already satisfied: pgeocode in c:\\users\\charlotte\\anaconda3\\lib\\site-packages (0.3.0)\nRequirement already satisfied: pandas in c:\\users\\charlotte\\anaconda3\\lib\\site-packages (from pgeocode) (1.1.3)\nRequirement already satisfied: requests in c:\\users\\charlotte\\anaconda3\\lib\\site-packages (from pgeocode) (2.24.0)\nRequirement already satisfied: numpy in c:\\users\\charlotte\\anaconda3\\lib\\site-packages (from pgeocode) (1.19.2)\nRequirement already satisfied: pytz>=2017.2 in c:\\users\\charlotte\\anaconda3\\lib\\site-packages (from pandas->pgeocode) (2020.1)\nRequirement already satisfied: python-dateutil>=2.7.3 in c:\\users\\charlotte\\anaconda3\\lib\\site-packages (from pandas->pgeocode) (2.8.1)\nRequirement already satisfied: certifi>=2017.4.17 in c:\\users\\charlotte\\anaconda3\\lib\\site-packages (from requests->pgeocode) (2020.6.20)\nRequirement already satisfied: chardet<4,>=3.0.2 in c:\\users\\charlotte\\anaconda3\\lib\\site-packages (from requests->pgeocode) (3.0.4)\nRequirement already satisfied: idna<3,>=2.5 in c:\\users\\charlotte\\anaconda3\\lib\\site-packages (from requests->pgeocode) (2.10)\nRequirement already satisfied: urllib3!=1.25.0,!=1.25.1,<1.26,>=1.21.1 in c:\\users\\charlotte\\anaconda3\\lib\\site-packages (from requests->pgeocode) (1.25.11)\nRequirement already satisfied: six>=1.5 in c:\\users\\charlotte\\anaconda3\\lib\\site-packages (from python-dateutil>=2.7.3->pandas->pgeocode) (1.15.0)\nInstallation Completed\n"
                }
            ],
            "source": "!pip -q install geopy\n\n!pip -q install geocoder\n\n!pip install pgeocode\n\n!pip -q install folium\nprint('Installation Completed')"
        },
        {
            "cell_type": "markdown",
            "metadata": {},
            "source": "<h3> 2.2 Importing Required Libraries</h3>"
        },
        {
            "cell_type": "code",
            "execution_count": 2,
            "metadata": {},
            "outputs": [
                {
                    "name": "stdout",
                    "output_type": "stream",
                    "text": "Libraries Imported\n"
                }
            ],
            "source": "# Library for BeautifulSoup, for web scrapping\nfrom bs4 import BeautifulSoup\n\n# Library to handle data in a vectorized manner\nimport numpy as np\n\n# Library for data analsysis\nimport pandas as pd\npd.set_option('display.max_columns', None)\npd.set_option('display.max_rows', None)\n\n# Library to handle JSON files\nimport json\n\n# Convert an address into latitude and longitude values\nfrom geopy.geocoders import Nominatim\n\n# Library to handle requests\nimport requests\n\n# Tranform JSON file into a pandas dataframe\nfrom pandas.io.json import json_normalize\n\n# Matplotlib and associated plotting modules\nimport matplotlib.cm as cm\nimport matplotlib.colors as colors\n\n# Import k-means from clustering stage\nfrom sklearn.cluster import KMeans\n\n# Import the Geocoder\nimport geocoder\n\n# Import pgeocode\nimport pgeocode\n\n# Map rendering library\nimport folium\n\n# Import matplotlib and seaborn for visualisation\nimport matplotlib.pyplot as plt\nimport seaborn as sns\n\nprint('Libraries Imported')"
        },
        {
            "cell_type": "markdown",
            "metadata": {},
            "source": "<h3>2.3 Getting Deomographic Data for Ethnic Groups in London</h3>"
        },
        {
            "cell_type": "markdown",
            "metadata": {},
            "source": "In order to determine which neighborhood in London would be the best to open a new Chinese restaurant, we assume that the Chinese population make up the majority of the market for Chinese cuisine. In reality, other ethnicities also do frequent Chinese restaurants. However, since market data for Chinese cuisine is not made freely available on the internet, for the purpose of this project, we will make this assumption."
        },
        {
            "cell_type": "code",
            "execution_count": 3,
            "metadata": {},
            "outputs": [],
            "source": "# Submiting GET request using BeautifulSoup object\nurl = 'https://en.wikipedia.org/wiki/Ethnic_groups_in_London#:~:text=At%20the%202011%20census%2C%20London,24.5%25%20born%20outside%20of%20Europe.'\nhtml_data  = requests.get(url).text\nsoup = BeautifulSoup(html_data, \"html5lib\")"
        },
        {
            "cell_type": "code",
            "execution_count": 4,
            "metadata": {},
            "outputs": [],
            "source": "tables = soup.find_all('table', {'class':'wikitable'})"
        },
        {
            "cell_type": "code",
            "execution_count": 5,
            "metadata": {},
            "outputs": [],
            "source": "asian_pop = tables[6].tbody"
        },
        {
            "cell_type": "code",
            "execution_count": 6,
            "metadata": {},
            "outputs": [],
            "source": "# Define the column names for a new dataframe\ncolumns = ['London Borough', 'Chinese Population']\n\n# Create a new empty dataframe \nchinese_pop = pd.DataFrame(columns = columns)\n\n# Extract the borough and chinese population from the html table into the dataframe chinese_pop\nfor i, row in enumerate(asian_pop.find_all('tr')): \n    if i == 0: # The first row is ignored as it only contains headers\n        pass\n    else:\n        col = row.find_all(\"td\")\n        borough = col[1].text\n        chinese = col[5].text.replace(',','')\n        chinese_pop = chinese_pop.append({\"London Borough\":borough, \"Chinese Population\":chinese}, ignore_index=True)"
        },
        {
            "cell_type": "code",
            "execution_count": 7,
            "metadata": {},
            "outputs": [
                {
                    "data": {
                        "text/html": "<div>\n<style scoped>\n    .dataframe tbody tr th:only-of-type {\n        vertical-align: middle;\n    }\n\n    .dataframe tbody tr th {\n        vertical-align: top;\n    }\n\n    .dataframe thead th {\n        text-align: right;\n    }\n</style>\n<table border=\"1\" class=\"dataframe\">\n  <thead>\n    <tr style=\"text-align: right;\">\n      <th></th>\n      <th>London Borough</th>\n      <th>Chinese Population</th>\n    </tr>\n  </thead>\n  <tbody>\n    <tr>\n      <th>0</th>\n      <td>Newham</td>\n      <td>3930</td>\n    </tr>\n    <tr>\n      <th>1</th>\n      <td>Redbridge</td>\n      <td>3000</td>\n    </tr>\n    <tr>\n      <th>2</th>\n      <td>Brent</td>\n      <td>3250</td>\n    </tr>\n    <tr>\n      <th>3</th>\n      <td>Tower Hamlets</td>\n      <td>8109</td>\n    </tr>\n    <tr>\n      <th>4</th>\n      <td>Harrow</td>\n      <td>2629</td>\n    </tr>\n  </tbody>\n</table>\n</div>",
                        "text/plain": "  London Borough Chinese Population\n0         Newham               3930\n1      Redbridge               3000\n2          Brent               3250\n3  Tower Hamlets               8109\n4         Harrow               2629"
                    },
                    "execution_count": 7,
                    "metadata": {},
                    "output_type": "execute_result"
                }
            ],
            "source": "# Examine the first 5 rows of the dataframe\nchinese_pop.head()"
        },
        {
            "cell_type": "markdown",
            "metadata": {},
            "source": "Now that we have our data, we want to sort the dataframe by 'Chinese Population' from the borough with the highest Chinese population to the lowest."
        },
        {
            "cell_type": "code",
            "execution_count": 8,
            "metadata": {},
            "outputs": [
                {
                    "data": {
                        "text/html": "<div>\n<style scoped>\n    .dataframe tbody tr th:only-of-type {\n        vertical-align: middle;\n    }\n\n    .dataframe tbody tr th {\n        vertical-align: top;\n    }\n\n    .dataframe thead th {\n        text-align: right;\n    }\n</style>\n<table border=\"1\" class=\"dataframe\">\n  <thead>\n    <tr style=\"text-align: right;\">\n      <th></th>\n      <th>London Borough</th>\n      <th>Chinese Population</th>\n    </tr>\n  </thead>\n  <tbody>\n    <tr>\n      <th>0</th>\n      <td>Barnet</td>\n      <td>8259</td>\n    </tr>\n    <tr>\n      <th>1</th>\n      <td>Tower Hamlets</td>\n      <td>8109</td>\n    </tr>\n    <tr>\n      <th>2</th>\n      <td>Southwark</td>\n      <td>8074</td>\n    </tr>\n    <tr>\n      <th>3</th>\n      <td>Camden</td>\n      <td>6493</td>\n    </tr>\n    <tr>\n      <th>4</th>\n      <td>Westminster</td>\n      <td>5917</td>\n    </tr>\n  </tbody>\n</table>\n</div>",
                        "text/plain": "  London Borough  Chinese Population\n0         Barnet                8259\n1  Tower Hamlets                8109\n2      Southwark                8074\n3         Camden                6493\n4    Westminster                5917"
                    },
                    "execution_count": 8,
                    "metadata": {},
                    "output_type": "execute_result"
                }
            ],
            "source": "# Converting the values to type int so we can sort by population\nchinese_pop['Chinese Population'] = chinese_pop['Chinese Population'].astype('int')\n\n# Sorting the Chinese Population column in descending order \nchinese_pop_sort = chinese_pop.sort_values(by='Chinese Population', ascending = False).reset_index(drop = True)\n\n# Returning the top 5 boroughs with the highest Chinese population\nchinese_pop_sort.head()"
        },
        {
            "cell_type": "markdown",
            "metadata": {},
            "source": "<h3>2.4 Getting Neighborhood and Postal Code Data for the 5 Boroughs in London</h3>"
        },
        {
            "cell_type": "markdown",
            "metadata": {},
            "source": "Now that we have identified the 5 boroughs that we will be focusing on, we want to get a list of the neighborhoods and postal codes in those boroughs."
        },
        {
            "cell_type": "code",
            "execution_count": 9,
            "metadata": {},
            "outputs": [],
            "source": "# Submiting GET request using BeautifulSoup object\nurl = 'https://en.wikipedia.org/wiki/List_of_areas_of_London'\nhtml_data  = requests.get(url).text\nsoup = BeautifulSoup(html_data, \"html5lib\")"
        },
        {
            "cell_type": "code",
            "execution_count": 10,
            "metadata": {},
            "outputs": [],
            "source": "# This extracts the \"tbody\" within the table where class is \"wikitable sortable\"\ntable = soup.find('table', {'class':'wikitable sortable'}).tbody\n\n# Extracts all table rows within the table above\nrows = table.find_all('tr')\n\n# Define the column names for a new dataframe\ncolumns = ['Neighborhood', 'Borough', 'PostTown', 'PostCode']\n\n# Create a new empty dataframe \nlondon = pd.DataFrame(columns = columns)\n\n# Extract the neighborhood, borough, posttown and postal code data from the html table into the dataframe london\nfor i in range(1, len(table.find_all('tr'))): # The first row is ignored as it only contains headers\n    col = rows[i].find_all(\"td\")\n    location = col[0].text\n    borough = col[1].text.rstrip(']').rstrip('0123456789').rstrip('[')\n    posttown = col[2].text\n    postcode = col[3].text\n    london = london.append({\"Neighborhood\":location, \"Borough\":borough, 'PostTown':posttown, 'PostCode':postcode}, ignore_index=True)"
        },
        {
            "cell_type": "code",
            "execution_count": 11,
            "metadata": {},
            "outputs": [
                {
                    "data": {
                        "text/html": "<div>\n<style scoped>\n    .dataframe tbody tr th:only-of-type {\n        vertical-align: middle;\n    }\n\n    .dataframe tbody tr th {\n        vertical-align: top;\n    }\n\n    .dataframe thead th {\n        text-align: right;\n    }\n</style>\n<table border=\"1\" class=\"dataframe\">\n  <thead>\n    <tr style=\"text-align: right;\">\n      <th></th>\n      <th>Neighborhood</th>\n      <th>Borough</th>\n      <th>PostTown</th>\n      <th>PostCode</th>\n    </tr>\n  </thead>\n  <tbody>\n    <tr>\n      <th>0</th>\n      <td>Abbey Wood</td>\n      <td>Bexley,  Greenwich</td>\n      <td>LONDON</td>\n      <td>SE2</td>\n    </tr>\n    <tr>\n      <th>1</th>\n      <td>Acton</td>\n      <td>Ealing, Hammersmith and Fulham</td>\n      <td>LONDON</td>\n      <td>W3, W4</td>\n    </tr>\n    <tr>\n      <th>2</th>\n      <td>Addington</td>\n      <td>Croydon</td>\n      <td>CROYDON</td>\n      <td>CR0</td>\n    </tr>\n    <tr>\n      <th>3</th>\n      <td>Addiscombe</td>\n      <td>Croydon</td>\n      <td>CROYDON</td>\n      <td>CR0</td>\n    </tr>\n    <tr>\n      <th>4</th>\n      <td>Albany Park</td>\n      <td>Bexley</td>\n      <td>BEXLEY, SIDCUP</td>\n      <td>DA5, DA14</td>\n    </tr>\n  </tbody>\n</table>\n</div>",
                        "text/plain": "  Neighborhood                         Borough        PostTown   PostCode\n0   Abbey Wood             Bexley,  Greenwich           LONDON        SE2\n1        Acton  Ealing, Hammersmith and Fulham          LONDON     W3, W4\n2    Addington                         Croydon         CROYDON        CR0\n3   Addiscombe                         Croydon         CROYDON        CR0\n4  Albany Park                          Bexley  BEXLEY, SIDCUP  DA5, DA14"
                    },
                    "execution_count": 11,
                    "metadata": {},
                    "output_type": "execute_result"
                }
            ],
            "source": "# Examine the first 5 rows of the dataframe\nlondon.head()"
        },
        {
            "cell_type": "markdown",
            "metadata": {},
            "source": "In the <code>london</code> dataframe, we note that in some cases the neighborhood is affixed to more than one postcode. Since we only need one postcode to extract the coordinates of the neighborhood, we select the first postcode listed and drop the rest."
        },
        {
            "cell_type": "code",
            "execution_count": 12,
            "metadata": {
                "scrolled": true
            },
            "outputs": [],
            "source": "# Spliting the postcode values by ',' and selecting one postcode\nlondon = london.drop('PostCode', axis=1).join(london['PostCode'].str.split(',', expand=True).stack().reset_index(level=1, drop=True).rename('PostCode'))"
        },
        {
            "cell_type": "code",
            "execution_count": 13,
            "metadata": {},
            "outputs": [
                {
                    "data": {
                        "text/html": "<div>\n<style scoped>\n    .dataframe tbody tr th:only-of-type {\n        vertical-align: middle;\n    }\n\n    .dataframe tbody tr th {\n        vertical-align: top;\n    }\n\n    .dataframe thead th {\n        text-align: right;\n    }\n</style>\n<table border=\"1\" class=\"dataframe\">\n  <thead>\n    <tr style=\"text-align: right;\">\n      <th></th>\n      <th>Neighborhood</th>\n      <th>Borough</th>\n      <th>PostTown</th>\n      <th>PostCode</th>\n    </tr>\n  </thead>\n  <tbody>\n    <tr>\n      <th>0</th>\n      <td>Abbey Wood</td>\n      <td>Bexley,  Greenwich</td>\n      <td>LONDON</td>\n      <td>SE2</td>\n    </tr>\n    <tr>\n      <th>1</th>\n      <td>Acton</td>\n      <td>Ealing, Hammersmith and Fulham</td>\n      <td>LONDON</td>\n      <td>W3</td>\n    </tr>\n    <tr>\n      <th>1</th>\n      <td>Acton</td>\n      <td>Ealing, Hammersmith and Fulham</td>\n      <td>LONDON</td>\n      <td>W4</td>\n    </tr>\n    <tr>\n      <th>2</th>\n      <td>Addington</td>\n      <td>Croydon</td>\n      <td>CROYDON</td>\n      <td>CR0</td>\n    </tr>\n    <tr>\n      <th>3</th>\n      <td>Addiscombe</td>\n      <td>Croydon</td>\n      <td>CROYDON</td>\n      <td>CR0</td>\n    </tr>\n  </tbody>\n</table>\n</div>",
                        "text/plain": "  Neighborhood                         Borough PostTown PostCode\n0   Abbey Wood             Bexley,  Greenwich    LONDON      SE2\n1        Acton  Ealing, Hammersmith and Fulham   LONDON       W3\n1        Acton  Ealing, Hammersmith and Fulham   LONDON       W4\n2    Addington                         Croydon  CROYDON      CR0\n3   Addiscombe                         Croydon  CROYDON      CR0"
                    },
                    "execution_count": 13,
                    "metadata": {},
                    "output_type": "execute_result"
                }
            ],
            "source": "# Examine the first 5 rows of the dataframe\nlondon.head()"
        },
        {
            "cell_type": "markdown",
            "metadata": {},
            "source": "Now that we have only one postal code for each neighborhood, we want to filter the dataframe for PostTown 'LONDON' and the 5 boroughs as well."
        },
        {
            "cell_type": "code",
            "execution_count": 14,
            "metadata": {},
            "outputs": [],
            "source": "# Filtering the data to include only neighborhoods in London\nlondon = london[london['PostTown'].str.contains('LONDON')]\n\n# Dropping the PostTown column after we have filtered the dataframe\nlondon.drop(['PostTown'], axis=1, inplace = True)\n\n# Filtering the data to include only the 5 boroughs\nlondon = london[london['Borough'].str.contains('Barnet|Tower Hamlets|Southwark|Camden|Westminster')].reset_index(drop = True)"
        },
        {
            "cell_type": "code",
            "execution_count": 15,
            "metadata": {},
            "outputs": [
                {
                    "data": {
                        "text/html": "<div>\n<style scoped>\n    .dataframe tbody tr th:only-of-type {\n        vertical-align: middle;\n    }\n\n    .dataframe tbody tr th {\n        vertical-align: top;\n    }\n\n    .dataframe thead th {\n        text-align: right;\n    }\n</style>\n<table border=\"1\" class=\"dataframe\">\n  <thead>\n    <tr style=\"text-align: right;\">\n      <th></th>\n      <th>Neighborhood</th>\n      <th>Borough</th>\n      <th>PostCode</th>\n    </tr>\n  </thead>\n  <tbody>\n    <tr>\n      <th>0</th>\n      <td>Aldwych</td>\n      <td>Westminster</td>\n      <td>WC2</td>\n    </tr>\n    <tr>\n      <th>1</th>\n      <td>Arkley</td>\n      <td>Barnet</td>\n      <td>EN5</td>\n    </tr>\n    <tr>\n      <th>2</th>\n      <td>Arkley</td>\n      <td>Barnet</td>\n      <td>NW7</td>\n    </tr>\n    <tr>\n      <th>3</th>\n      <td>Bankside</td>\n      <td>Southwark</td>\n      <td>SE1</td>\n    </tr>\n    <tr>\n      <th>4</th>\n      <td>Barnet Gate</td>\n      <td>Barnet</td>\n      <td>NW7</td>\n    </tr>\n    <tr>\n      <th>5</th>\n      <td>Barnet Gate</td>\n      <td>Barnet</td>\n      <td>EN5</td>\n    </tr>\n    <tr>\n      <th>6</th>\n      <td>Bayswater</td>\n      <td>Westminster</td>\n      <td>W2</td>\n    </tr>\n    <tr>\n      <th>7</th>\n      <td>Belgravia</td>\n      <td>Westminster</td>\n      <td>SW1</td>\n    </tr>\n    <tr>\n      <th>8</th>\n      <td>Belsize Park</td>\n      <td>Camden</td>\n      <td>NW3</td>\n    </tr>\n    <tr>\n      <th>9</th>\n      <td>Bermondsey</td>\n      <td>Southwark</td>\n      <td>SE1</td>\n    </tr>\n  </tbody>\n</table>\n</div>",
                        "text/plain": "   Neighborhood      Borough PostCode\n0       Aldwych  Westminster      WC2\n1        Arkley       Barnet      EN5\n2        Arkley       Barnet      NW7\n3      Bankside    Southwark      SE1\n4   Barnet Gate       Barnet      NW7\n5   Barnet Gate       Barnet      EN5\n6     Bayswater  Westminster       W2\n7     Belgravia  Westminster      SW1\n8  Belsize Park       Camden      NW3\n9    Bermondsey    Southwark      SE1"
                    },
                    "execution_count": 15,
                    "metadata": {},
                    "output_type": "execute_result"
                }
            ],
            "source": "# Examine the first 10 rows of the dataframe\nlondon.head(10)"
        },
        {
            "cell_type": "markdown",
            "metadata": {},
            "source": "Although we have dropped the excess postcodes, we can see from the dataframe above that some of the postcodes are still repeating. The latitude and longitude values of these neighborhoods will be the same, therefore having multiplies of the same postcode does not add any value to our analysis and are subsequently dropped."
        },
        {
            "cell_type": "code",
            "execution_count": 16,
            "metadata": {
                "scrolled": true
            },
            "outputs": [],
            "source": "# Drop duplicated postcodes\nlondon.drop_duplicates(subset =\"PostCode\", keep='first', inplace = True)"
        },
        {
            "cell_type": "code",
            "execution_count": 17,
            "metadata": {},
            "outputs": [
                {
                    "data": {
                        "text/plain": "(54, 3)"
                    },
                    "execution_count": 17,
                    "metadata": {},
                    "output_type": "execute_result"
                }
            ],
            "source": "# Check the final number of rows of the dataframe\nlondon.shape"
        },
        {
            "cell_type": "markdown",
            "metadata": {},
            "source": "<h3>2.5 Getting the Latitude and Longitude for each PostCode</h3>"
        },
        {
            "cell_type": "markdown",
            "metadata": {},
            "source": "Now that we have the names of the neighborhoods and their respective postal codes, we want to get the latitude and longitude values as well. To do so, we will be using the Python library <code>pgeocode</code>."
        },
        {
            "cell_type": "code",
            "execution_count": 18,
            "metadata": {},
            "outputs": [
                {
                    "data": {
                        "text/html": "<div>\n<style scoped>\n    .dataframe tbody tr th:only-of-type {\n        vertical-align: middle;\n    }\n\n    .dataframe tbody tr th {\n        vertical-align: top;\n    }\n\n    .dataframe thead th {\n        text-align: right;\n    }\n</style>\n<table border=\"1\" class=\"dataframe\">\n  <thead>\n    <tr style=\"text-align: right;\">\n      <th></th>\n      <th>PostCode</th>\n      <th>Latitude</th>\n      <th>Longitude</th>\n    </tr>\n  </thead>\n  <tbody>\n    <tr>\n      <th>0</th>\n      <td>WC2</td>\n      <td>51.5142</td>\n      <td>-0.123382</td>\n    </tr>\n    <tr>\n      <th>1</th>\n      <td>EN5</td>\n      <td>51.6562</td>\n      <td>-0.194317</td>\n    </tr>\n    <tr>\n      <th>2</th>\n      <td>NW7</td>\n      <td>51.6143</td>\n      <td>-0.227300</td>\n    </tr>\n    <tr>\n      <th>3</th>\n      <td>SE1</td>\n      <td>51.4963</td>\n      <td>-0.093038</td>\n    </tr>\n    <tr>\n      <th>4</th>\n      <td>NW7</td>\n      <td>51.6143</td>\n      <td>-0.227300</td>\n    </tr>\n  </tbody>\n</table>\n</div>",
                        "text/plain": "  PostCode  Latitude  Longitude\n0      WC2   51.5142  -0.123382\n1      EN5   51.6562  -0.194317\n2      NW7   51.6143  -0.227300\n3      SE1   51.4963  -0.093038\n4      NW7   51.6143  -0.227300"
                    },
                    "execution_count": 18,
                    "metadata": {},
                    "output_type": "execute_result"
                }
            ],
            "source": "# Extracting the PostCode column from our london dataframe\npostal_codes = london['PostCode']\n\n# Define the column names for a new dataframe\ncolumns = ['PostCode', 'Latitude', 'Longitude']\n\n# Create a new empty dataframe \ncoordinates = pd.DataFrame(columns = columns)\n\n# Iterate through the postcodes, get the latitude and longitude values and append to the new dataframe coordinates\nfor postal_code in postal_codes:\n    nomi = pgeocode.Nominatim('gb')\n    coordinate = nomi.query_postal_code(postal_code)\n    lat = coordinate[9]\n    lng = coordinate[10]\n    coordinates = coordinates.append({\"PostCode\":postal_code, \"Latitude\":lat, 'Longitude':lng}, ignore_index=True)\n    \n# Examine the first 5 rows of the dataframe\ncoordinates.head()"
        },
        {
            "cell_type": "markdown",
            "metadata": {},
            "source": "We have 2 dataframes now. <code>london</code>, containing the name of the neighborhoods and boroughs and <code>coordinates</code>, containing the coordinates for these neighborhoods. We want to merge the two dataframe to get what will be our main dataframe for our analysis."
        },
        {
            "cell_type": "code",
            "execution_count": 19,
            "metadata": {},
            "outputs": [
                {
                    "data": {
                        "text/html": "<div>\n<style scoped>\n    .dataframe tbody tr th:only-of-type {\n        vertical-align: middle;\n    }\n\n    .dataframe tbody tr th {\n        vertical-align: top;\n    }\n\n    .dataframe thead th {\n        text-align: right;\n    }\n</style>\n<table border=\"1\" class=\"dataframe\">\n  <thead>\n    <tr style=\"text-align: right;\">\n      <th></th>\n      <th>Neighborhood</th>\n      <th>Borough</th>\n      <th>PostCode</th>\n      <th>Latitude</th>\n      <th>Longitude</th>\n    </tr>\n  </thead>\n  <tbody>\n    <tr>\n      <th>0</th>\n      <td>Aldwych</td>\n      <td>Westminster</td>\n      <td>WC2</td>\n      <td>51.5142</td>\n      <td>-0.123382</td>\n    </tr>\n    <tr>\n      <th>1</th>\n      <td>Arkley</td>\n      <td>Barnet</td>\n      <td>EN5</td>\n      <td>51.6562</td>\n      <td>-0.194317</td>\n    </tr>\n    <tr>\n      <th>2</th>\n      <td>Arkley</td>\n      <td>Barnet</td>\n      <td>NW7</td>\n      <td>51.6143</td>\n      <td>-0.227300</td>\n    </tr>\n    <tr>\n      <th>3</th>\n      <td>Bankside</td>\n      <td>Southwark</td>\n      <td>SE1</td>\n      <td>51.4963</td>\n      <td>-0.093038</td>\n    </tr>\n    <tr>\n      <th>4</th>\n      <td>Barnet Gate</td>\n      <td>Barnet</td>\n      <td>NW7</td>\n      <td>51.6143</td>\n      <td>-0.227300</td>\n    </tr>\n  </tbody>\n</table>\n</div>",
                        "text/plain": "  Neighborhood      Borough PostCode  Latitude  Longitude\n0      Aldwych  Westminster      WC2   51.5142  -0.123382\n1       Arkley       Barnet      EN5   51.6562  -0.194317\n2       Arkley       Barnet      NW7   51.6143  -0.227300\n3     Bankside    Southwark      SE1   51.4963  -0.093038\n4  Barnet Gate       Barnet      NW7   51.6143  -0.227300"
                    },
                    "execution_count": 19,
                    "metadata": {},
                    "output_type": "execute_result"
                }
            ],
            "source": "# Perform a left join on london and coordinates dataframe\nlondon = pd.merge(london, coordinates,on='PostCode', how='left')\n\n# Examine the first 5 rows of the dataframe\nlondon.head()"
        },
        {
            "cell_type": "code",
            "execution_count": 20,
            "metadata": {},
            "outputs": [
                {
                    "data": {
                        "text/plain": "(54, 5)"
                    },
                    "execution_count": 20,
                    "metadata": {},
                    "output_type": "execute_result"
                }
            ],
            "source": "# Check the shape of the dataframe london to ensure no information has been dropped or lost during the process\nlondon.shape"
        },
        {
            "cell_type": "markdown",
            "metadata": {},
            "source": "<h3>2.6 Defining the FourSquare API Data</h3>"
        },
        {
            "cell_type": "markdown",
            "metadata": {},
            "source": "Finally, we define the details of our credentials to access the FourSquare API. We also define the limit and radius of our calls."
        },
        {
            "cell_type": "code",
            "execution_count": 21,
            "metadata": {
                "scrolled": true
            },
            "outputs": [
                {
                    "name": "stdout",
                    "output_type": "stream",
                    "text": "Your credentails:\nCLIENT_ID: W33WOM3RWJHP511UIYKJKJISIWDN5KAOWU3N2V3ECGQGYIYP\nCLIENT_SECRET:P22DORR32XWLTRDAZQJ2T24N1YUVPM3DLV3G0UR4RNJAULGP\n"
                }
            ],
            "source": "CLIENT_ID = 'W33WOM3RWJHP511UIYKJKJISIWDN5KAOWU3N2V3ECGQGYIYP'\nCLIENT_SECRET = 'P22DORR32XWLTRDAZQJ2T24N1YUVPM3DLV3G0UR4RNJAULGP'\nVERSION = '20180605' # Foursquare API version\nLIMIT = 100 # A default Foursquare API limit value\nradius = 2000 # A default radius value\n\nprint('Your credentails:')\nprint('CLIENT_ID: ' + CLIENT_ID)\nprint('CLIENT_SECRET:' + CLIENT_SECRET)"
        }
    ],
    "metadata": {
        "kernelspec": {
            "display_name": "Python 3.7",
            "language": "python",
            "name": "python3"
        },
        "language_info": {
            "codemirror_mode": {
                "name": "ipython",
                "version": 3
            },
            "file_extension": ".py",
            "mimetype": "text/x-python",
            "name": "python",
            "nbconvert_exporter": "python",
            "pygments_lexer": "ipython3",
            "version": "3.7.10"
        }
    },
    "nbformat": 4,
    "nbformat_minor": 1
}